{
 "cells": [
  {
   "cell_type": "code",
   "execution_count": 6,
   "id": "de9ae94a",
   "metadata": {},
   "outputs": [],
   "source": [
    "tuplaDeActividadII = (1, \"hola\", 3, 'a', 5)"
   ]
  },
  {
   "cell_type": "code",
   "execution_count": 10,
   "id": "9cf6508e",
   "metadata": {},
   "outputs": [],
   "source": [
    "nuevaLista = list(tuplaDeActividadII)"
   ]
  },
  {
   "cell_type": "code",
   "execution_count": 15,
   "id": "53a5c5cd",
   "metadata": {},
   "outputs": [],
   "source": [
    "diccionario = {}"
   ]
  },
  {
   "cell_type": "code",
   "execution_count": 26,
   "id": "41d137b0",
   "metadata": {},
   "outputs": [],
   "source": [
    "diccionario = {i:v for i, v in enumerate(nuevaLista)}"
   ]
  }
 ],
 "metadata": {
  "kernelspec": {
   "display_name": "Python 3",
   "language": "python",
   "name": "python3"
  },
  "language_info": {
   "codemirror_mode": {
    "name": "ipython",
    "version": 3
   },
   "file_extension": ".py",
   "mimetype": "text/x-python",
   "name": "python",
   "nbconvert_exporter": "python",
   "pygments_lexer": "ipython3",
   "version": "3.6.13"
  }
 },
 "nbformat": 4,
 "nbformat_minor": 5
}
